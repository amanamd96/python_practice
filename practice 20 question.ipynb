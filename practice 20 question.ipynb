{
 "cells": [
  {
   "cell_type": "code",
   "execution_count": 7,
   "id": "87aa3388-9869-476b-bd07-34afb00ffe01",
   "metadata": {},
   "outputs": [],
   "source": [
    "#Write a Python function to check if a string is a palindrome.\n",
    "\n",
    "def check_palindrom(str):\n",
    "\n",
    "    data = list(str)\n",
    "    start = 0\n",
    "    end = len(data)-1\n",
    "\n",
    "    while start < end :\n",
    "        if(data[start] != data[end]):\n",
    "            return False\n",
    "        start += 1\n",
    "        end -= 1\n",
    "    return True"
   ]
  },
  {
   "cell_type": "code",
   "execution_count": 9,
   "id": "816f675d-db9b-4a82-adcd-305d55cbe0ed",
   "metadata": {},
   "outputs": [
    {
     "name": "stdout",
     "output_type": "stream",
     "text": [
      "False\n"
     ]
    }
   ],
   "source": [
    "print(check_palindrom(\"aman\"))"
   ]
  },
  {
   "cell_type": "code",
   "execution_count": 15,
   "id": "6ad98eb7-bcc0-4c88-ad9e-4e053690da89",
   "metadata": {},
   "outputs": [],
   "source": [
    "#Write code to find the most frequent element in a list.\n",
    "\n",
    "def frequency_ele(lst) :\n",
    "      max_count = 0\n",
    "      max_item = None\n",
    "\n",
    "      for ele in lst :\n",
    "          count = 0\n",
    "          for x in lst:\n",
    "              if x == ele:\n",
    "                  count += 1\n",
    "          if max_count < count :\n",
    "              max_count  = count\n",
    "              max_item = ele\n",
    "      return max_item"
   ]
  },
  {
   "cell_type": "code",
   "execution_count": 16,
   "id": "4abb0f48-1ae3-4ef9-ab40-0aa5be4e16f3",
   "metadata": {},
   "outputs": [
    {
     "name": "stdout",
     "output_type": "stream",
     "text": [
      "2\n"
     ]
    }
   ],
   "source": [
    "lst = [1,2,1,2,1,1,2,2,3,4,5,2]\n",
    "print(frequency_ele(lst))"
   ]
  },
  {
   "cell_type": "code",
   "execution_count": 41,
   "id": "2cf39be4-2ca3-4814-8094-f8a5168995ba",
   "metadata": {},
   "outputs": [],
   "source": [
    "# method 2\n",
    "\n",
    "def most_frequent(lst):\n",
    "    freq = {}  # to store element counts\n",
    "\n",
    "    # Count each element\n",
    "    for item in lst:\n",
    "        if item in freq:\n",
    "            freq[item] += 1\n",
    "        else:\n",
    "            freq[item] = 1\n",
    "\n",
    "    # Find element with maximum count\n",
    "    max_count = 0\n",
    "    most_item = None\n",
    "    for item, count in freq.items():\n",
    "        if count > max_count:\n",
    "            max_count = count\n",
    "            most_item = item\n",
    "\n",
    "    return most_item\n"
   ]
  },
  {
   "cell_type": "code",
   "execution_count": 42,
   "id": "9ed7934a-394f-4784-8bdf-1ce92c889d8d",
   "metadata": {},
   "outputs": [],
   "source": [
    "#Write a Python function to merge two dictionaries.\n",
    "\n",
    "def merge_dicts(d1, d2):\n",
    "    merged = d1.copy()      # start with all items from d1\n",
    "    for key, value in d2.items():  \n",
    "        merged[key] = value # add items from d2 (overwrites if key exists)\n",
    "    return merged\n"
   ]
  },
  {
   "cell_type": "code",
   "execution_count": 71,
   "id": "7c42ab0d-e18b-46bf-8570-15ead4d3d473",
   "metadata": {},
   "outputs": [],
   "source": [
    "#reversed sentence\n",
    "\n",
    "def reversed_str(str) :\n",
    "\n",
    "    lst = list(str)\n",
    "\n",
    "    start = 0\n",
    "    end = len(lst) - 1\n",
    "\n",
    "    while start < end :\n",
    "        lst[start] , lst[end] = lst[end] , lst[start]\n",
    "        start += 1\n",
    "        end -= 1\n",
    "    revresed_value = \"\".join(lst)\n",
    "    return revresed_value"
   ]
  },
  {
   "cell_type": "code",
   "execution_count": 91,
   "id": "057d94ab-3c00-4d97-b9c7-6f85953b80a6",
   "metadata": {},
   "outputs": [
    {
     "name": "stdout",
     "output_type": "stream",
     "text": [
      "my name is aman kumar dubey lin 1\n",
      "['my', 'name', 'is', 'aman', 'kumar', 'dubey'] lst\n",
      "my\n",
      "name\n",
      "is\n",
      "aman\n",
      "kumar\n",
      "dubey\n"
     ]
    },
    {
     "data": {
      "text/plain": [
       "'ym eman si nama ramuk yebud'"
      ]
     },
     "execution_count": 91,
     "metadata": {},
     "output_type": "execute_result"
    }
   ],
   "source": [
    "# reverrsed word in sentence\n",
    "\n",
    "def revrsed_sen(sen):\n",
    "\n",
    "    print(sen ,\"lin 1\")\n",
    "    lst = sen.split(\" \")\n",
    "\n",
    "    print(lst ,\"lst\")\n",
    "    for i in range(len(lst)):\n",
    "        print(lst[i])\n",
    "        lst[i] = reversed_str(lst[i])\n",
    "    return \" \".join(lst)\n",
    "\n",
    "\n",
    "sen = \"my name is aman kumar dubey\"\n",
    "revrsed_sen(sen)"
   ]
  },
  {
   "cell_type": "code",
   "execution_count": 94,
   "id": "d8bc3d55-b94a-4358-b14e-949c8be2e2ef",
   "metadata": {},
   "outputs": [],
   "source": [
    "\n",
    "#2nd largest\n",
    "\n",
    "\n",
    "\n",
    "def second_largest(lst):\n",
    "\n",
    "    max = lst[0]\n",
    "    second_max = lst[0]\n",
    "\n",
    "    for ele in lst:\n",
    "        if ele > max:\n",
    "            second_max = max\n",
    "            max = ele\n",
    "        elif second_max < ele :\n",
    "            second_max = ele\n",
    "    return second_max"
   ]
  },
  {
   "cell_type": "code",
   "execution_count": 95,
   "id": "3fcc3bdd-9483-4977-af3f-0ce2df2ae037",
   "metadata": {},
   "outputs": [
    {
     "name": "stdout",
     "output_type": "stream",
     "text": [
      "31\n"
     ]
    }
   ],
   "source": [
    "lst =[10, 12,13,18,45,21,31,2]\n",
    "print(second_largest(lst))"
   ]
  },
  {
   "cell_type": "code",
   "execution_count": 101,
   "id": "11d85430-bbd2-4e4d-8f6f-cd7e6b9a2656",
   "metadata": {},
   "outputs": [],
   "source": [
    "#flat nested list\n",
    "\n",
    "def nested_list(lst) : \n",
    "\n",
    "    flat_list = []\n",
    "\n",
    "    for item in lst:\n",
    "        if isinstance(item , list):\n",
    "            data = nested_list(item)\n",
    "            flat_list.extend(data)\n",
    "        else :\n",
    "            flat_list.append(item)\n",
    "    return flat_list"
   ]
  },
  {
   "cell_type": "code",
   "execution_count": 102,
   "id": "c89c10c4-49d3-4533-8787-7278dc5e1f6d",
   "metadata": {},
   "outputs": [
    {
     "name": "stdout",
     "output_type": "stream",
     "text": [
      "[1, 2, 3, 7, 9, 10, 33, 22, 44, 65]\n"
     ]
    }
   ],
   "source": [
    "data = [[1,2,3],[7,9,10,[33,22]],44,65]\n",
    "print(nested_list(data))"
   ]
  },
  {
   "cell_type": "code",
   "execution_count": 117,
   "id": "9a1574be-666a-4829-af5b-dac70dc98cc3",
   "metadata": {},
   "outputs": [],
   "source": [
    "# print all prime number less than N\n",
    "import math\n",
    "def print_prime_number(N):\n",
    "\n",
    "    lst = []\n",
    "    for i in range(2,N):\n",
    "        isPrime = True\n",
    "        for x in range(2, int(math.sqrt(i)) + 1):\n",
    "            if i % x == 0:\n",
    "                isPrime = False\n",
    "                break\n",
    "        if isPrime:\n",
    "            lst.append(i)\n",
    "    return lst\n",
    "               "
   ]
  },
  {
   "cell_type": "code",
   "execution_count": 120,
   "id": "be6af02f-3552-402a-8c89-cc9870c472af",
   "metadata": {},
   "outputs": [
    {
     "name": "stdout",
     "output_type": "stream",
     "text": [
      "[2, 3, 5, 7, 11, 13]\n"
     ]
    }
   ],
   "source": [
    "print(print_prime_number(15))"
   ]
  },
  {
   "cell_type": "code",
   "execution_count": null,
   "id": "6f22dbf6-000c-46e3-b1bb-33d9ea7a7d82",
   "metadata": {},
   "outputs": [],
   "source": []
  }
 ],
 "metadata": {
  "kernelspec": {
   "display_name": "Python 3 (ipykernel)",
   "language": "python",
   "name": "python3"
  },
  "language_info": {
   "codemirror_mode": {
    "name": "ipython",
    "version": 3
   },
   "file_extension": ".py",
   "mimetype": "text/x-python",
   "name": "python",
   "nbconvert_exporter": "python",
   "pygments_lexer": "ipython3",
   "version": "3.13.5"
  }
 },
 "nbformat": 4,
 "nbformat_minor": 5
}
